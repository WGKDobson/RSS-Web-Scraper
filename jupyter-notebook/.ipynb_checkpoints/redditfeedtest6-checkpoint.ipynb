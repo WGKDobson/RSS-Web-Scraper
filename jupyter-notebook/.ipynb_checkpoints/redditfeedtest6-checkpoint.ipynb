{
 "cells": [
  {
   "cell_type": "code",
   "execution_count": 2,
   "metadata": {},
   "outputs": [
    {
     "name": "stdout",
     "output_type": "stream",
     "text": [
      "Python\n"
     ]
    }
   ],
   "source": [
    "import feedparser\n",
    "\n",
    "d = feedparser.parse('http://www.reddit.com/r/python/.rss')\n",
    "\n",
    "print(d['feed']['title'])\n"
   ]
  },
  {
   "cell_type": "code",
   "execution_count": 3,
   "metadata": {},
   "outputs": [
    {
     "name": "stdout",
     "output_type": "stream",
     "text": [
      "https://www.reddit.com/r/python/\n"
     ]
    }
   ],
   "source": [
    "print( d['feed']['link'])\n"
   ]
  },
  {
   "cell_type": "code",
   "execution_count": 4,
   "metadata": {},
   "outputs": [
    {
     "name": "stdout",
     "output_type": "stream",
     "text": [
      "News about the programming language Python. If you have something to teach others post here. If you have questions or are a newbie use r/learnpython\n"
     ]
    }
   ],
   "source": [
    "print( d.feed.subtitle)"
   ]
  },
  {
   "cell_type": "code",
   "execution_count": 5,
   "metadata": {},
   "outputs": [
    {
     "name": "stdout",
     "output_type": "stream",
     "text": [
      "27\n"
     ]
    }
   ],
   "source": [
    "print( len(d['entries']))"
   ]
  },
  {
   "cell_type": "code",
   "execution_count": 6,
   "metadata": {},
   "outputs": [
    {
     "name": "stdout",
     "output_type": "stream",
     "text": [
      "Sunday megathread: What's everyone working on this week?: https://www.reddit.com/r/Python/comments/j8v6q3/sunday_megathread_whats_everyone_working_on_this/ \n",
      "Wednesday megathread: Beginner questions: https://www.reddit.com/r/Python/comments/japmgq/wednesday_megathread_beginner_questions/ \n",
      "Automating Zoom with Python - automatically logs into one's meetings/classes on time: https://www.reddit.com/r/Python/comments/jb4hb8/automating_zoom_with_python_automatically_logs/ \n",
      "A educational Bohr model made with Python: https://www.reddit.com/r/Python/comments/jazkqa/a_educational_bohr_model_made_with_python/ \n",
      "My Game I made in Python has some new textures from open game art, but I have to stop progress for now because of school :(: https://www.reddit.com/r/Python/comments/jb59zh/my_game_i_made_in_python_has_some_new_textures/ \n",
      "Linters - Which one?: https://www.reddit.com/r/Python/comments/jar4rd/linters_which_one/ \n",
      "Data Management With Python, SQLite, and SQLAlchemy – Real Python: https://www.reddit.com/r/Python/comments/jb1tzx/data_management_with_python_sqlite_and_sqlalchemy/ \n",
      "I made a keylogger, an autoclicker and an email sender!: https://www.reddit.com/r/Python/comments/jb3jza/i_made_a_keylogger_an_autoclicker_and_an_email/ \n",
      "I curated all the remote job openings from Hacker News who is hiring - October: https://www.reddit.com/r/Python/comments/jb5jas/i_curated_all_the_remote_job_openings_from_hacker/ \n",
      "Learn Machine Learning Algorithms from Scratch in Python like Neural Network, Decision Tree, Logistic Regression,: https://www.reddit.com/r/Python/comments/jb2tjo/learn_machine_learning_algorithms_from_scratch_in/ \n",
      "tldrstory: Build AI-powered applications that understand headlines and story text: https://www.reddit.com/r/Python/comments/jahx5z/tldrstory_build_aipowered_applications_that/ \n",
      "Made this tool with python and my son now hates me: https://www.reddit.com/r/Python/comments/ja5y2m/made_this_tool_with_python_and_my_son_now_hates_me/ \n",
      "New Firebird driver for Python release 1.0.0 is available for download, together with brand new extension package firebird-lib: https://www.reddit.com/r/Python/comments/jb4q5b/new_firebird_driver_for_python_release_100_is/ \n",
      "Steganos - A steganography project I've been working on in my spare time: https://www.reddit.com/r/Python/comments/javab6/steganos_a_steganography_project_ive_been_working/ \n",
      "Lightly is a computer vision framework for self-supervised learning.: https://www.reddit.com/r/Python/comments/jb81af/lightly_is_a_computer_vision_framework_for/ \n",
      "Vigenere Cipher Implementation: https://www.reddit.com/r/Python/comments/jb7kls/vigenere_cipher_implementation/ \n",
      "New machine learning Python package: https://www.reddit.com/r/Python/comments/jah41p/new_machine_learning_python_package/ \n",
      "2DES Meet in the Middle: https://www.reddit.com/r/Python/comments/jb7dk0/2des_meet_in_the_middle/ \n",
      "I made a web app using Flask and NLTK that analyses Cover Letters https://covertuner.com/ [UPDATE]: https://www.reddit.com/r/Python/comments/jas7lf/i_made_a_web_app_using_flask_and_nltk_that/ \n",
      "Python package to get your flight status: https://www.reddit.com/r/Python/comments/jb6xnx/python_package_to_get_your_flight_status/ \n",
      "How to create Landsat timelapse animations without coding - (Google Earth Engine Tutorial Series): https://www.reddit.com/r/Python/comments/jaw1xe/how_to_create_landsat_timelapse_animations/ \n",
      "made this to convert local PDF files to dark mode: https://www.reddit.com/r/Python/comments/jb579e/made_this_to_convert_local_pdf_files_to_dark_mode/ \n",
      "Technology behind MyFlow(opera)?: https://www.reddit.com/r/Python/comments/jb4trg/technology_behind_myflowopera/ \n",
      "A open gui python reddit browser for programmers and minimalists: https://www.reddit.com/r/Python/comments/jb3w9o/a_open_gui_python_reddit_browser_for_programmers/ \n",
      "Does this count as machine learning?: https://www.reddit.com/r/Python/comments/jb3uez/does_this_count_as_machine_learning/ \n",
      "Python 3.9: Cool new features that make our lives easier!: https://www.reddit.com/r/Python/comments/jb3dah/python_39_cool_new_features_that_make_our_lives/ \n",
      "Obey the Testing Goat - Django, Selenium, JS: https://www.reddit.com/r/Python/comments/jb2may/obey_the_testing_goat_django_selenium_js/ \n"
     ]
    }
   ],
   "source": [
    "for post in d.entries:\n",
    "    print( post.title + \": \" + post.link + \" \")"
   ]
  },
  {
   "cell_type": "code",
   "execution_count": 10,
   "metadata": {},
   "outputs": [
    {
     "name": "stdout",
     "output_type": "stream",
     "text": [
      "Sunday megathread: What's everyone working on this week?: <!-- SC_OFF --><div class=\"md\"><p>Tell <a href=\"https://www.reddit.com/r/python\">/r/python</a> what you're working on this week! You can be bragging, grousing, sharing your passion, or explaining your pain. Talk about your current project or your pet project; whatever you want to share.</p> </div><!-- SC_ON --> &#32; submitted by &#32; <a href=\"https://www.reddit.com/user/Im__Joseph\"> /u/Im__Joseph </a> <br /> <span><a href=\"https://www.reddit.com/r/Python/comments/j8v6q3/sunday_megathread_whats_everyone_working_on_this/\">[link]</a></span> &#32; <span><a href=\"https://www.reddit.com/r/Python/comments/j8v6q3/sunday_megathread_whats_everyone_working_on_this/\">[comments]</a></span> \n",
      " \n",
      "Wednesday megathread: Beginner questions: <!-- SC_OFF --><div class=\"md\"><p>New to Python and have questions? Use this thread to ask anything about Python, there are no bad questions!</p> </div><!-- SC_ON --> &#32; submitted by &#32; <a href=\"https://www.reddit.com/user/Im__Joseph\"> /u/Im__Joseph </a> <br /> <span><a href=\"https://www.reddit.com/r/Python/comments/japmgq/wednesday_megathread_beginner_questions/\">[link]</a></span> &#32; <span><a href=\"https://www.reddit.com/r/Python/comments/japmgq/wednesday_megathread_beginner_questions/\">[comments]</a></span> \n",
      " \n",
      "Automating Zoom with Python - automatically logs into one's meetings/classes on time: <table> <tr><td> <a href=\"https://www.reddit.com/r/Python/comments/jb4hb8/automating_zoom_with_python_automatically_logs/\"> <img alt=\"Automating Zoom with Python - automatically logs into one's meetings/classes on time\" src=\"https://b.thumbs.redditmedia.com/A2EmQeQZljQNWKWI1rLrukIntAaJmfuGlo3wllcUKTA.jpg\" title=\"Automating Zoom with Python - automatically logs into one's meetings/classes on time\" /> </a> </td><td> &#32; submitted by &#32; <a href=\"https://www.reddit.com/user/cheerfulboy\"> /u/cheerfulboy </a> <br /> <span><a href=\"https://sunilaleti.hashnode.dev/automating-zoom\">[link]</a></span> &#32; <span><a href=\"https://www.reddit.com/r/Python/comments/jb4hb8/automating_zoom_with_python_automatically_logs/\">[comments]</a></span> </td></tr></table> \n",
      " \n",
      "A educational Bohr model made with Python: <table> <tr><td> <a href=\"https://www.reddit.com/r/Python/comments/jazkqa/a_educational_bohr_model_made_with_python/\"> <img alt=\"A educational Bohr model made with Python\" src=\"https://b.thumbs.redditmedia.com/mY_KoQtvkMuBXu5rRCqzqEa7FeUaIbfp3IJNd3xCvIo.jpg\" title=\"A educational Bohr model made with Python\" /> </a> </td><td> <!-- SC_OFF --><div class=\"md\"><p>I made this simple script with the Python module turtle to entertain my chemistry students. Maybe you will enjoy too:</p> <p><a href=\"https://github.com/chicolucio/bohr-model-turtle\">https://github.com/chicolucio/bohr-model-turtle</a></p> <p>Here is a gif example:</p> <p><a href=\"https://i.redd.it/pxsyw43jy1t51.gif\">https://i.redd.it/pxsyw43jy1t51.gif</a></p> </div><!-- SC_ON --> &#32; submitted by &#32; <a href=\"https://www.reddit.com/user/chicolucio\"> /u/chicolucio </a> <br /> <span><a href=\"https://www.reddit.com/r/Python/comments/jazkqa/a_educational_bohr_model_made_with_python/\">[link]</a></span> &#32; <span><a href=\"https://www.reddit.com/r/Python/comments/jazkqa/a_educational_bohr_model_made_with_python/\">[comments]</a></span> </td></tr></table> \n",
      " \n",
      "My Game I made in Python has some new textures from open game art, but I have to stop progress for now because of school :(: <!-- SC_OFF --><div class=\"md\"><p><a href=\"https://reddit.com/link/jb59zh/video/18yagj9jf3t51/player\">Project Footage</a></p> <p>I have been making this project in python using the pygame framework for awhile now and I have to take a break from it to focus on my school work :(. I would <strong>love</strong> to hear <strong>any thoughts</strong> you have on the project so far and what I could add in the future.</p> <p>Here's the code: <a href=\"https://drive.google.com/drive/folders/1Pl4I65qDQb6Ou6LLuSOGid-svIJUBtb7?usp=sharing\">https://drive.google.com/drive/folders/1Pl4I65qDQb6Ou6LLuSOGid-svIJUBtb7?usp=sharing</a> (Sorry it won't let me post it on GitHub, the file is too large)</p> <p>&#x200b;</p> <p>(Oh btw I feel kinda stupid putting Intermediate Showcase as anyone could do what I made but I am proud of it so I didn't want to put beginner)</p> <p>Thank you :D</p> </div><!-- SC_ON --> &#32; submitted by &#32; <a href=\"https://www.reddit.com/user/Karki2002\"> /u/Karki2002 </a> <br /> <span><a href=\"https://www.reddit.com/r/Python/comments/jb59zh/my_game_i_made_in_python_has_some_new_textures/\">[link]</a></span> &#32; <span><a href=\"https://www.reddit.com/r/Python/comments/jb59zh/my_game_i_made_in_python_has_some_new_textures/\">[comments]</a></span> \n",
      " \n",
      "Linters - Which one?: <!-- SC_OFF --><div class=\"md\"><p>To make it short:</p> <p>Is choosing a special linter just a question of personal taste?</p> <p>If not, what are the &quot;most widely used/best ones&quot;? And what can they do what others can't?</p> </div><!-- SC_ON --> &#32; submitted by &#32; <a href=\"https://www.reddit.com/user/fake823\"> /u/fake823 </a> <br /> <span><a href=\"https://www.reddit.com/r/Python/comments/jar4rd/linters_which_one/\">[link]</a></span> &#32; <span><a href=\"https://www.reddit.com/r/Python/comments/jar4rd/linters_which_one/\">[comments]</a></span> \n",
      " \n",
      "Data Management With Python, SQLite, and SQLAlchemy – Real Python: <table> <tr><td> <a href=\"https://www.reddit.com/r/Python/comments/jb1tzx/data_management_with_python_sqlite_and_sqlalchemy/\"> <img alt=\"Data Management With Python, SQLite, and SQLAlchemy – Real Python\" src=\"https://b.thumbs.redditmedia.com/bbrSQKQFINolY8mUGYd0Vox5m-rdndnFz9mMb1uN1SQ.jpg\" title=\"Data Management With Python, SQLite, and SQLAlchemy – Real Python\" /> </a> </td><td> &#32; submitted by &#32; <a href=\"https://www.reddit.com/user/endlesstrax\"> /u/endlesstrax </a> <br /> <span><a href=\"https://realpython.com/python-sqlite-sqlalchemy/\">[link]</a></span> &#32; <span><a href=\"https://www.reddit.com/r/Python/comments/jb1tzx/data_management_with_python_sqlite_and_sqlalchemy/\">[comments]</a></span> </td></tr></table> \n",
      " \n",
      "I made a keylogger, an autoclicker and an email sender!: <!-- SC_OFF --><div class=\"md\"><p>Hi!</p> <p>Lately I've been trying to learn Python and I've tried make a bunch of small projects to see what I could do using some frameworks like Kivy and pyautogui that I am excited to share!</p> <p>Please feel free to give me any feedback, even negative ones. Let me know what you really think about this and what could I improve!</p> <p>Thank you!</p> <p><a href=\"https://github.com/Myphz/autoclicker\">https://github.com/Myphz/autoclicker</a></p> <p><a href=\"https://github.com/Myphz/keylogger\">https://github.com/Myphz/keylogger</a></p> <p><a href=\"https://github.com/Myphz/emailsender\">https://github.com/Myphz/emailsender</a></p> </div><!-- SC_ON --> &#32; submitted by &#32; <a href=\"https://www.reddit.com/user/Myphhz\"> /u/Myphhz </a> <br /> <span><a href=\"https://www.reddit.com/r/Python/comments/jb3jza/i_made_a_keylogger_an_autoclicker_and_an_email/\">[link]</a></span> &#32; <span><a href=\"https://www.reddit.com/r/Python/comments/jb3jza/i_made_a_keylogger_an_autoclicker_and_an_email/\">[comments]</a></span> \n",
      " \n",
      "I curated all the remote job openings from Hacker News who is hiring - October: <!-- SC_OFF --><div class=\"md\"><p>Here I would like to share more than 480 remote jobs that I've curated from Hacker News Who is hiring thread. All these are 100% remote jobs not just allowed to work from home during COVID-19. These are 100% remote jobs and will continue to follow that after the covid.</p> <p><a href=\"https://remoteleaf.com/whoishiring\">https://remoteleaf.com/whoishiring</a>. </p> <p>Note: Select &quot;python&quot; in the skills filter to view all Python/Django/Flask jobs</p> <p>✅ 100% remote full-time jobs.<br /> ✅ Each and every job is manually curated and verified. Spent more than 14 hours for this.</p> </div><!-- SC_ON --> &#32; submitted by &#32; <a href=\"https://www.reddit.com/user/abinaya_304\"> /u/abinaya_304 </a> <br /> <span><a href=\"https://www.reddit.com/r/Python/comments/jb5jas/i_curated_all_the_remote_job_openings_from_hacker/\">[link]</a></span> &#32; <span><a href=\"https://www.reddit.com/r/Python/comments/jb5jas/i_curated_all_the_remote_job_openings_from_hacker/\">[comments]</a></span> \n",
      " \n",
      "Learn Machine Learning Algorithms from Scratch in Python like Neural Network, Decision Tree, Logistic Regression,: <!-- SC_OFF --><div class=\"md\"><p>Learn Machine Learning Algorithms from Scratch in Python like Neural Network, Decision Tree, Logistic Regression</p> <p><a href=\"https://www.youtube.com/channel/UCuOT2b1Umrr0MittMzuxNcA?sub_confirmation=1\">https://www.youtube.com/channel/UCuOT2b1Umrr0MittMzuxNcA?sub_confirmation=1</a></p> </div><!-- SC_ON --> &#32; submitted by &#32; <a href=\"https://www.reddit.com/user/dhiraj8899\"> /u/dhiraj8899 </a> <br /> <span><a href=\"https://www.reddit.com/r/Python/comments/jb2tjo/learn_machine_learning_algorithms_from_scratch_in/\">[link]</a></span> &#32; <span><a href=\"https://www.reddit.com/r/Python/comments/jb2tjo/learn_machine_learning_algorithms_from_scratch_in/\">[comments]</a></span> \n",
      " \n",
      "tldrstory: Build AI-powered applications that understand headlines and story text: <table> <tr><td> <a href=\"https://www.reddit.com/r/Python/comments/jahx5z/tldrstory_build_aipowered_applications_that/\"> <img alt=\"tldrstory: Build AI-powered applications that understand headlines and story text\" src=\"https://a.thumbs.redditmedia.com/2g6Vs2vDKYYy-VhhDgW1UkTz32kAMyKGwSSk6WhLwg4.jpg\" title=\"tldrstory: Build AI-powered applications that understand headlines and story text\" /> </a> </td><td> &#32; submitted by &#32; <a href=\"https://www.reddit.com/user/davidmezzetti\"> /u/davidmezzetti </a> <br /> <span><a href=\"https://i.redd.it/dofpo2fkbws51.gif\">[link]</a></span> &#32; <span><a href=\"https://www.reddit.com/r/Python/comments/jahx5z/tldrstory_build_aipowered_applications_that/\">[comments]</a></span> </td></tr></table> \n",
      " \n",
      "Made this tool with python and my son now hates me: <!-- SC_OFF --><div class=\"md\"><p>I use it to generate endless random basic math questions for him to practice =)</p> <p><a href=\"https://github.com/januschung/math-worksheet-generator\">https://github.com/januschung/math-worksheet-generator</a></p> </div><!-- SC_ON --> &#32; submitted by &#32; <a href=\"https://www.reddit.com/user/janusc17\"> /u/janusc17 </a> <br /> <span><a href=\"https://www.reddit.com/r/Python/comments/ja5y2m/made_this_tool_with_python_and_my_son_now_hates_me/\">[link]</a></span> &#32; <span><a href=\"https://www.reddit.com/r/Python/comments/ja5y2m/made_this_tool_with_python_and_my_son_now_hates_me/\">[comments]</a></span> \n",
      " \n",
      "New Firebird driver for Python release 1.0.0 is available for download, together with brand new extension package firebird-lib: &#32; submitted by &#32; <a href=\"https://www.reddit.com/user/mariuz\"> /u/mariuz </a> <br /> <span><a href=\"https://firebirdsql.org/en/news/firebird-driver-firebird-lib-1-0-0-released/\">[link]</a></span> &#32; <span><a href=\"https://www.reddit.com/r/Python/comments/jb4q5b/new_firebird_driver_for_python_release_100_is/\">[comments]</a></span> \n",
      " \n",
      "Steganos - A steganography project I've been working on in my spare time: <!-- SC_OFF --><div class=\"md\"><h1>Steganos</h1> <p>Hidden in plain sight</p> <p>&#x200b;</p> <p>&#x200b;</p> <p>Hi!</p> <p>Recently i've been working on a steganography project I called Steganos.</p> <p>I've just now completed the project and added a Graphical Interface.</p> <p>&#x200b;</p> <p>A little about the project:</p> <ul> <li>The project works by hiding information inside either new or preexisting images</li> <li>There are currently 2 modes: Blatant and Stegano. Blatant creates a new image consisting of colorful pixels on a black background. Not very subtle, but it can hold a lot of information. Stegano mode works on preexisting images and only slightly modifies a few pixels. Really subtle, can't hold all that information</li> </ul> <p>&#x200b;</p> <p>You can find the project here:</p> <ul> <li><a href=\"https://github.com/ZenT3600/Steganos\">Github</a> - (Source code)</li> <li><a href=\"https://www.matteoleggio.it/joomla/en/products.html\">My Website</a> - (Binaries)</li> </ul> <p>&#x200b;</p> <p>All suggestions and questions are more than welcome. I'd love to see what you people have to say about this.</p> <p>Sincerely yours</p> <p>- ZenT3600</p> </div><!-- SC_ON --> &#32; submitted by &#32; <a href=\"https://www.reddit.com/user/ZenT3600\"> /u/ZenT3600 </a> <br /> <span><a href=\"https://www.reddit.com/r/Python/comments/javab6/steganos_a_steganography_project_ive_been_working/\">[link]</a></span> &#32; <span><a href=\"https://www.reddit.com/r/Python/comments/javab6/steganos_a_steganography_project_ive_been_working/\">[comments]</a></span> \n",
      " \n",
      "Lightly is a computer vision framework for self-supervised learning.: <table> <tr><td> <a href=\"https://www.reddit.com/r/Python/comments/jb81af/lightly_is_a_computer_vision_framework_for/\"> <img alt=\"Lightly is a computer vision framework for self-supervised learning.\" src=\"https://b.thumbs.redditmedia.com/PjCIQQ609-uWfcxpej6Qk1mMzvoPkImDzGRgqz6O4Ts.jpg\" title=\"Lightly is a computer vision framework for self-supervised learning.\" /> </a> </td><td> &#32; submitted by &#32; <a href=\"https://www.reddit.com/user/pmz\"> /u/pmz </a> <br /> <span><a href=\"https://github.com/lightly-ai/lightly\">[link]</a></span> &#32; <span><a href=\"https://www.reddit.com/r/Python/comments/jb81af/lightly_is_a_computer_vision_framework_for/\">[comments]</a></span> </td></tr></table> \n",
      " \n",
      "Vigenere Cipher Implementation: <!-- SC_OFF --><div class=\"md\"><p>Hello!</p> <p>In the past week I have been reading about cryptography and it struck me as a good idea to implement the <a href=\"https://en.wikipedia.org/wiki/Vigen%C3%A8re_cipher\">vigenere cipher</a>.</p> <p>I am looking for feedback, critique and review on the code I wrote.</p> <p>Thank you!</p> </div><!-- SC_ON --> &#32; submitted by &#32; <a href=\"https://www.reddit.com/user/ViktorCodes\"> /u/ViktorCodes </a> <br /> <span><a href=\"https://www.reddit.com/r/Python/comments/jb7kls/vigenere_cipher_implementation/\">[link]</a></span> &#32; <span><a href=\"https://www.reddit.com/r/Python/comments/jb7kls/vigenere_cipher_implementation/\">[comments]</a></span> \n",
      " \n",
      "New machine learning Python package: <!-- SC_OFF --><div class=\"md\"><p>Hi all! I recently made a Python package I'd like to share. It dramatically simplifies a lot of machine learning tasks, including tasks such as choosing a model, training your model, natural language processing, and text clustering. Check it out and please submit issues/PRs!</p> <p><a href=\"https://github.com/kristiewirth/datto\">https://github.com/kristiewirth/datto</a></p> </div><!-- SC_ON --> &#32; submitted by &#32; <a href=\"https://www.reddit.com/user/kristie_005\"> /u/kristie_005 </a> <br /> <span><a href=\"https://www.reddit.com/r/Python/comments/jah41p/new_machine_learning_python_package/\">[link]</a></span> &#32; <span><a href=\"https://www.reddit.com/r/Python/comments/jah41p/new_machine_learning_python_package/\">[comments]</a></span> \n",
      " \n",
      "2DES Meet in the Middle: <!-- SC_OFF --><div class=\"md\"><p>I need Python code that can find keys (k1 and k2) for a meet in the middle attack. I have an encrypted PNG file. Therefore, I know the ciphertext and a part of the plaintext, since I can get the PNG signature. So, I can match the 8 byte PNG signature (plaintext) with the first 8 bytes of the encrypted PNG file. Does anyone have code that can find the keys used to encrypt the png file?</p> </div><!-- SC_ON --> &#32; submitted by &#32; <a href=\"https://www.reddit.com/user/Crallsas\"> /u/Crallsas </a> <br /> <span><a href=\"https://www.reddit.com/r/Python/comments/jb7dk0/2des_meet_in_the_middle/\">[link]</a></span> &#32; <span><a href=\"https://www.reddit.com/r/Python/comments/jb7dk0/2des_meet_in_the_middle/\">[comments]</a></span> \n",
      " \n",
      "I made a web app using Flask and NLTK that analyses Cover Letters https://covertuner.com/ [UPDATE]: <!-- SC_OFF --><div class=\"md\"><p>I showcased this tool a few months back and it received a lot of interest. I finally got some free time and made the project open-source on Github. The code currently relates to the backend NLP engine. I will add the source of the Flask based web app at a later date. Hope you guys find this helpful! <a href=\"https://github.com/saadmalik95/covertuner\">https://github.com/saadmalik95/covertuner</a></p> </div><!-- SC_ON --> &#32; submitted by &#32; <a href=\"https://www.reddit.com/user/saadmalik95\"> /u/saadmalik95 </a> <br /> <span><a href=\"https://www.reddit.com/r/Python/comments/jas7lf/i_made_a_web_app_using_flask_and_nltk_that/\">[link]</a></span> &#32; <span><a href=\"https://www.reddit.com/r/Python/comments/jas7lf/i_made_a_web_app_using_flask_and_nltk_that/\">[comments]</a></span> \n",
      " \n",
      "Python package to get your flight status: <!-- SC_OFF --><div class=\"md\"><p>Flight-status: <a href=\"https://pypi.org/project/flight-status/\">https://pypi.org/project/flight-status/</a></p> <p>Check out this cool python package to get the status of your Flight booking using your PNR. It's open for collaboration feel free to contribute to it by adding various other Airlines support.</p> <p>Currently supported airlines are: - Indigo - Spice Jet - Air Asia</p> </div><!-- SC_ON --> &#32; submitted by &#32; <a href=\"https://www.reddit.com/user/tiwari85aman\"> /u/tiwari85aman </a> <br /> <span><a href=\"https://www.reddit.com/r/Python/comments/jb6xnx/python_package_to_get_your_flight_status/\">[link]</a></span> &#32; <span><a href=\"https://www.reddit.com/r/Python/comments/jb6xnx/python_package_to_get_your_flight_status/\">[comments]</a></span> \n",
      " \n",
      "How to create Landsat timelapse animations without coding - (Google Earth Engine Tutorial Series): <table> <tr><td> <a href=\"https://www.reddit.com/r/Python/comments/jaw1xe/how_to_create_landsat_timelapse_animations/\"> <img alt=\"How to create Landsat timelapse animations without coding - (Google Earth Engine Tutorial Series)\" src=\"https://b.thumbs.redditmedia.com/-vgStcZqJP1bCldqpg1Ed9b0GQhK2oGLxiAymOFrQkI.jpg\" title=\"How to create Landsat timelapse animations without coding - (Google Earth Engine Tutorial Series)\" /> </a> </td><td> &#32; submitted by &#32; <a href=\"https://www.reddit.com/user/cheerfulboy\"> /u/cheerfulboy </a> <br /> <span><a href=\"https://blog.gishub.org/gee-tutorial-39-how-to-create-landsat-timelapse-animations-without-coding\">[link]</a></span> &#32; <span><a href=\"https://www.reddit.com/r/Python/comments/jaw1xe/how_to_create_landsat_timelapse_animations/\">[comments]</a></span> </td></tr></table> \n",
      " \n",
      "made this to convert local PDF files to dark mode: <!-- SC_OFF --><div class=\"md\"><p>link: <a href=\"https://www.j9108c.com/apps/dark-mode-pdf\">https://www.j9108c.com/apps/dark-mode-pdf</a></p> <p>code: <a href=\"https://github.com/j9108c/dark-mode-pdf\">https://github.com/j9108c/dark-mode-pdf</a></p> </div><!-- SC_ON --> &#32; submitted by &#32; <a href=\"https://www.reddit.com/user/doobi1\"> /u/doobi1 </a> <br /> <span><a href=\"https://www.reddit.com/r/Python/comments/jb579e/made_this_to_convert_local_pdf_files_to_dark_mode/\">[link]</a></span> &#32; <span><a href=\"https://www.reddit.com/r/Python/comments/jb579e/made_this_to_convert_local_pdf_files_to_dark_mode/\">[comments]</a></span> \n",
      " \n",
      "Technology behind MyFlow(opera)?: <!-- SC_OFF --><div class=\"md\"><p>If you've ever used opera, you might know about myflow. For those who don't, Myflow lets you send text, links or other information from laptop/mobile to mobile/laptop. </p> <p>I want to know what is the technology behind it. How this is done? Are there any protocols? </p> <p>I want to implement it as a standalone GUI - using python. Any suggestions would be helpful.</p> </div><!-- SC_ON --> &#32; submitted by &#32; <a href=\"https://www.reddit.com/user/HumourslyyYours\"> /u/HumourslyyYours </a> <br /> <span><a href=\"https://www.reddit.com/r/Python/comments/jb4trg/technology_behind_myflowopera/\">[link]</a></span> &#32; <span><a href=\"https://www.reddit.com/r/Python/comments/jb4trg/technology_behind_myflowopera/\">[comments]</a></span> \n",
      " \n",
      "A open gui python reddit browser for programmers and minimalists: <!-- SC_OFF --><div class=\"md\"><p>Hi! For a while, i have wanted to make a reddit browser made just for those moments when you want to integrate something into reddit but also don't want to modify live webpages, or for when you just wanna quickly view content instead of posting. </p> <p>And, well, i think i have the solution to all of that: OpenSnoo</p> <p>Made with intentionally hard coded elements, you can just use it like any other offline app and enjoy yourself, with whatever features you decided to add and no need to go to a slow website that requires you to switch back to the main page to switch posts or having to download a inconvenient and overly complicated closed source app that reinvented the wheel to do the same thing.</p> <p>Also, feel free to make pull requests! Everything that fits to the original mantra will accepted in the next version!</p> <p><strong>Github link:</strong> <a href=\"https://github.com/TryTurningOffAndOnAgain/OpenSnoo\"><strong>https://github.com/TryTurningOffAndOnAgain/OpenSnoo</strong></a></p> </div><!-- SC_ON --> &#32; submitted by &#32; <a href=\"https://www.reddit.com/user/veryinterestingnut\"> /u/veryinterestingnut </a> <br /> <span><a href=\"https://www.reddit.com/r/Python/comments/jb3w9o/a_open_gui_python_reddit_browser_for_programmers/\">[link]</a></span> &#32; <span><a href=\"https://www.reddit.com/r/Python/comments/jb3w9o/a_open_gui_python_reddit_browser_for_programmers/\">[comments]</a></span> \n",
      " \n",
      "Does this count as machine learning?: <!-- SC_OFF --><div class=\"md\"><p>This is a python sentence generator I made. The more sentences you enter, the more variation you get. The variation comes from words used multiple times, so most variation comes from words like ‘the’ and ‘is’. I know my code is messy and should have gaps, but that's not how I like to code.</p> <p><a href=\"https://gist.github.com/h-e-l-l-o-1/5cf4dd78f01bcf45ef8ea56026d40f67\">The code</a></p> </div><!-- SC_ON --> &#32; submitted by &#32; <a href=\"https://www.reddit.com/user/Just_A_Minecrafter1\"> /u/Just_A_Minecrafter1 </a> <br /> <span><a href=\"https://www.reddit.com/r/Python/comments/jb3uez/does_this_count_as_machine_learning/\">[link]</a></span> &#32; <span><a href=\"https://www.reddit.com/r/Python/comments/jb3uez/does_this_count_as_machine_learning/\">[comments]</a></span> \n",
      " \n",
      "Python 3.9: Cool new features that make our lives easier!: <table> <tr><td> <a href=\"https://www.reddit.com/r/Python/comments/jb3dah/python_39_cool_new_features_that_make_our_lives/\"> <img alt=\"Python 3.9: Cool new features that make our lives easier!\" src=\"https://b.thumbs.redditmedia.com/LqZ9PlH_88i--9aH9tWZoid1IbuvjQrHrHNmkZX9faw.jpg\" title=\"Python 3.9: Cool new features that make our lives easier!\" /> </a> </td><td> &#32; submitted by &#32; <a href=\"https://www.reddit.com/user/arya399\"> /u/arya399 </a> <br /> <span><a href=\"https://www.analyticsvidhya.com/blog/2020/10/7-exciting-python-3-9-feature-to-know/\">[link]</a></span> &#32; <span><a href=\"https://www.reddit.com/r/Python/comments/jb3dah/python_39_cool_new_features_that_make_our_lives/\">[comments]</a></span> </td></tr></table> \n",
      " \n",
      "Obey the Testing Goat - Django, Selenium, JS: <!-- SC_OFF --><div class=\"md\"><p>I've been recommended the above text, however it's written with Python 3.6 and Django 1.10 in mind, and I'm wondering if it would be somewhat outdated/irrelevant? Can anyone weigh in as to whether this would be worth my while going through (it being 600 pages in length), or if there are any alternative textbooks on TDD in Python that would be preferable?</p> </div><!-- SC_ON --> &#32; submitted by &#32; <a href=\"https://www.reddit.com/user/Theendangeredmoose\"> /u/Theendangeredmoose </a> <br /> <span><a href=\"https://www.reddit.com/r/Python/comments/jb2may/obey_the_testing_goat_django_selenium_js/\">[link]</a></span> &#32; <span><a href=\"https://www.reddit.com/r/Python/comments/jb2may/obey_the_testing_goat_django_selenium_js/\">[comments]</a></span> \n",
      " \n"
     ]
    }
   ],
   "source": [
    "for post in d.entries:\n",
    "    print( post.title + \": \" + post.summary + \" \")\n",
    "    print(' ')"
   ]
  },
  {
   "cell_type": "code",
   "execution_count": null,
   "metadata": {},
   "outputs": [],
   "source": []
  }
 ],
 "metadata": {
  "kernelspec": {
   "display_name": "Python 3",
   "language": "python",
   "name": "python3"
  },
  "language_info": {
   "codemirror_mode": {
    "name": "ipython",
    "version": 3
   },
   "file_extension": ".py",
   "mimetype": "text/x-python",
   "name": "python",
   "nbconvert_exporter": "python",
   "pygments_lexer": "ipython3",
   "version": "3.8.2"
  }
 },
 "nbformat": 4,
 "nbformat_minor": 4
}
