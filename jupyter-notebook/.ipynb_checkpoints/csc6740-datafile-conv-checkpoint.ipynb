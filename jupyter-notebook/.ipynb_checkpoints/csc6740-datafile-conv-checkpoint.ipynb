{
 "cells": [
  {
   "cell_type": "code",
   "execution_count": 6,
   "metadata": {},
   "outputs": [],
   "source": [
    "# Library dependencies\n",
    "import requests\n",
    "from bs4 import BeautifulSoup\n",
    "import pickle\n",
    "import datetime \n",
    "import re\n",
    "\n",
    "filelist = [\"news_all_2020-10-25.p\", \"news_trump_2020-10-25.p\",\"news_biden_2020-10-25.p\",\"news_china_2020-10-25.p\",\"news_russia_2020-10-25.p\",\\\n",
    "            \"news_all_2020-10-24.p\", \"news_trump_2020-10-24.p\",\"news_biden_2020-10-24.p\",\"news_china_2020-10-24.p\",\"news_russia_2020-10-24.p\",\\\n",
    "            \"news_all_2020-10-22.p\", \"news_trump_2020-10-22.p\",\"news_biden_2020-10-22.p\",\"news_china_2020-10-22.p\",\"news_russia_2020-10-22.p\",\\\n",
    "            \"news_all_2020-10-21.p\", \"news_trump_2020-10-21.p\",\"news_biden_2020-10-21.p\",\"news_china_2020-10-21.p\",\"news_russia_2020-10-21.p\"\\\n",
    "           ]\n",
    "\n",
    "# Function to add data mining value place holders: polarity and subjectivity to the news items in library\n",
    "# -->for retrofitting data files\n",
    "def addSentParms(news_items):\n",
    "    dm_items = []\n",
    "    for item in news_items:\n",
    "        news_item = {}\n",
    "        news_item['title'] = item['title'] \n",
    "        news_item['description'] = item['description']\n",
    "        news_item['link'] = item['link'] \n",
    "        news_item['key'] = item['key'] \n",
    "        news_item['polarity'] = str(0)    # add value placeholders\n",
    "        news_item['subjectivity'] = str(0)\n",
    "        dm_items.append(news_item)\n",
    "    return dm_items\n",
    "   \n",
    "# Function to display news items library\n",
    "#  uses flag parameter to limit output \n",
    "#  0 = just news sources\n",
    "#  1 = news source + title\n",
    "#  2 = news source + title + description\n",
    "def displayNews(news_items, flag):\n",
    "    for item in news_items:\n",
    "        print(\"----\"+item['key']+\"----\")\n",
    "        if(flag >= 1):\n",
    "            print(\" - \"+item[\"title\"])\n",
    "        if(flag >= 2):\n",
    "            print(item[\"description\"]) \n",
    "    return\n",
    "\n"
   ]
  },
  {
   "cell_type": "code",
   "execution_count": 10,
   "metadata": {},
   "outputs": [
    {
     "name": "stdout",
     "output_type": "stream",
     "text": [
      "Nnews_all_2020-10-25.p written\n"
     ]
    },
    {
     "ename": "NameError",
     "evalue": "name 'news_items' is not defined",
     "output_type": "error",
     "traceback": [
      "\u001b[0;31m---------------------------------------------------------------------------\u001b[0m",
      "\u001b[0;31mNameError\u001b[0m                                 Traceback (most recent call last)",
      "\u001b[0;32m<ipython-input-10-d83dd497bd38>\u001b[0m in \u001b[0;36m<module>\u001b[0;34m\u001b[0m\n\u001b[1;32m      8\u001b[0m     \u001b[0mofname\u001b[0m \u001b[0;34m=\u001b[0m \u001b[0;34m\"N\"\u001b[0m\u001b[0;34m+\u001b[0m\u001b[0mfname\u001b[0m\u001b[0;34m\u001b[0m\u001b[0;34m\u001b[0m\u001b[0m\n\u001b[1;32m      9\u001b[0m     \u001b[0mprint\u001b[0m\u001b[0;34m(\u001b[0m\u001b[0mofname\u001b[0m\u001b[0;34m+\u001b[0m\u001b[0;34m\" written\"\u001b[0m\u001b[0;34m)\u001b[0m\u001b[0;34m\u001b[0m\u001b[0;34m\u001b[0m\u001b[0m\n\u001b[0;32m---> 10\u001b[0;31m     \u001b[0mpickle\u001b[0m\u001b[0;34m.\u001b[0m\u001b[0mdump\u001b[0m\u001b[0;34m(\u001b[0m\u001b[0mnews_items\u001b[0m\u001b[0;34m,\u001b[0m \u001b[0mopen\u001b[0m\u001b[0;34m(\u001b[0m\u001b[0mofname\u001b[0m\u001b[0;34m,\u001b[0m \u001b[0;34m\"wb\"\u001b[0m\u001b[0;34m)\u001b[0m\u001b[0;34m)\u001b[0m\u001b[0;34m\u001b[0m\u001b[0;34m\u001b[0m\u001b[0m\n\u001b[0m\u001b[1;32m     11\u001b[0m     \u001b[0;31m#displayNews(testobj2, 2)\u001b[0m\u001b[0;34m\u001b[0m\u001b[0;34m\u001b[0m\u001b[0;34m\u001b[0m\u001b[0m\n",
      "\u001b[0;31mNameError\u001b[0m: name 'news_items' is not defined"
     ]
    }
   ],
   "source": [
    "\n",
    "# Load pickled file Test code\n",
    "for fname in filelist:\n",
    "    testobj = {}\n",
    "    filehandler = open(fname, 'rb') \n",
    "    testobj = pickle.load(filehandler)\n",
    "    testobj2 = {}\n",
    "    testobj2 = addSentParms(testobj)\n",
    "    ofname = \"N\"+fname\n",
    "    print(ofname+\" written\")\n",
    "    pickle.dump(testobj2, open(ofname, \"wb\"))\n",
    "    #displayNews(testobj2, 2)\n"
   ]
  },
  {
   "cell_type": "code",
   "execution_count": 9,
   "metadata": {},
   "outputs": [
    {
     "data": {
      "text/plain": [
       "'/home/ktemp/Desktop/YTexample'"
      ]
     },
     "execution_count": 9,
     "metadata": {},
     "output_type": "execute_result"
    }
   ],
   "source": [
    "pwd"
   ]
  },
  {
   "cell_type": "code",
   "execution_count": 5,
   "metadata": {},
   "outputs": [
    {
     "name": "stdout",
     "output_type": "stream",
     "text": [
      "/home/ktemp/Desktop/YTexample\n"
     ]
    }
   ],
   "source": [
    "cd .."
   ]
  },
  {
   "cell_type": "code",
   "execution_count": null,
   "metadata": {},
   "outputs": [],
   "source": []
  }
 ],
 "metadata": {
  "kernelspec": {
   "display_name": "Python 3",
   "language": "python",
   "name": "python3"
  },
  "language_info": {
   "codemirror_mode": {
    "name": "ipython",
    "version": 3
   },
   "file_extension": ".py",
   "mimetype": "text/x-python",
   "name": "python",
   "nbconvert_exporter": "python",
   "pygments_lexer": "ipython3",
   "version": "3.8.2"
  }
 },
 "nbformat": 4,
 "nbformat_minor": 4
}
