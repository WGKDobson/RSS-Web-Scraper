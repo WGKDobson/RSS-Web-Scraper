{
 "cells": [
  {
   "cell_type": "code",
   "execution_count": 5,
   "metadata": {},
   "outputs": [],
   "source": [
    "#  CSC6740 Term Project\n",
    "#  Georgia State University - Fall 2020\n",
    "#  William Keith Dobson\n",
    "\n",
    "# Add description\n",
    "\n",
    "# Library dependencies\n",
    "import requests\n",
    "from bs4 import BeautifulSoup\n",
    "import pickle\n",
    "import datetime \n",
    "import re\n",
    "\n",
    "# Create dictionary of news rss feeds\n",
    "# Some of the rss feeds were removed due to embedded href= links in text tags\n",
    "# until a satisfactory filtering method is found.\n",
    "\n",
    "rssurls = {'telegraph':'https://www.dailytelegraph.com.au/news/world/rss',\\\n",
    "           'cnbc':'https://www.cnbc.com/id/100727362/device/rss/rss.html',\\\n",
    "           'cnn':'http://rss.cnn.com/rss/cnn_topstories.rss',\\\n",
    "#           'guardian':'http://www.theguardian.com/world/usa/rss',\\\n",
    "#           'aljazeera':'http://www.aljazeera.com/xml/rss/all.xml',\\\n",
    "#           'csmonitor':'https://rss.csmonitor.com/feeds/world',\\\n",
    "#           'cbn':'https://www1.cbn.com/app_feeds/rss/news/rss.php?section=world&mobile=false&q=cbnnews/world/feed',\\\n",
    "           'washtimes':'http://www.washingtontimes.com/rss/headlines/news/world',\\\n",
    "           'bbc':'http://newsrss.bbc.co.uk/rss/newsonline_world_edition/americas/rss.xml',\\\n",
    "           'nyt':'http://feeds.nytimes.com/nyt/rss/HomePage',\\\n",
    "           'npr':'http://www.npr.org/rss/rss.php?id=1001',\\\n",
    "           'washpost':'http://feeds.washingtonpost.com/rss/world',\\\n",
    "#           'rtnews':'https://www.rt.com/rss/news/',\\\n",
    "           'nbcnews':'http://feeds.nbcnews.com/nbcnews/public/news',\\\n",
    "           'wsj':'http://feeds.nbcnews.com/nbcnews/public/news',\\\n",
    "           'foxnews':'http://feeds.foxnews.com/foxnews/latest?format=xml',\\\n",
    "           'cbsnews':'https://www.cbsnews.com/latest/rss/world'}\n",
    "\n",
    "\n",
    "# Function to scrape titles and descriptions from a list of rss feeds using a search term list to filter\n",
    "# results then returns a list of news items.  Note that search algorithm uses OR logic so if any of the \n",
    "# search terms are present the story is added to the list\n",
    "\n",
    "def scrapeFeeds(rssurls, searchtermlist):\n",
    "    news_items = []   # list for storing all news items    \n",
    "    for key, url in rssurls.items():\n",
    "        resp = requests.get(url)\n",
    "        soup = BeautifulSoup(resp.content, 'xml')\n",
    "        items = soup.findAll('item')\n",
    "    \n",
    "        #print(soup.prettify())   #debug code\n",
    "    \n",
    "        # Extract title, description, and link for each news item\n",
    "        for item in items:\n",
    "            news_item = {}\n",
    "            news_item['title'] = item.title.text.strip()\n",
    "            news_item['description'] = re.sub(r'^https?:\\/\\/.*[\\r\\n]*', '', item.description.text, flags=re.MULTILINE).strip() #item.description.text\n",
    "            news_item['link'] = item.link.text\n",
    "            news_item['key'] = str(key)  # add key for sorting later\n",
    "            news_item['polarity'] = str(0)    # add place holders for data mining\n",
    "            news_item['subjectivity'] = str(0)\n",
    "            \n",
    "            for sterm in searchtermlist:\n",
    "                tmpstr = item.title.text.lower()\n",
    "                \n",
    "                if sterm == \"*\" or tmpstr.find(sterm.lower()) > 0:\n",
    "                    news_items.append(news_item)\n",
    "                    break\n",
    "            \n",
    "        print(\"======== \"+str(key)+\" news items read = \"+str(len(items))+\" \") #debug report\n",
    "    \n",
    "    return news_items\n",
    "\n",
    "# Function to pickle news_items list    \n",
    "def saveNewsItems(news_items, fname):    \n",
    "    # save the news items\n",
    "    pickle.dump(news_items, open(fname, \"wb\"))\n",
    "    print(\"==== File:   \" + fname + \" ... Pickled with \"+str(len(news_items))+\" stories written.\")\n",
    "    return\n",
    "\n",
    "# Function to display news items library\n",
    "#  uses flag parameter to limit output \n",
    "#  0 = just news sources\n",
    "#  1 = news source + title\n",
    "#  2 = news source + title + description\n",
    "#  3 = news source + title + description + text\n",
    "def displayNews(news_items, flag):\n",
    "    for item in news_items:\n",
    "        print(\"----\"+item['key']+\"----\")\n",
    "        if(flag >= 1):\n",
    "            print(item[\"key\"]+\" - \"+item[\"title\"])\n",
    "        if(flag >= 2):\n",
    "            print(item[\"description\"]) \n",
    "        if(flag >= 3):\n",
    "            print(\"[DESC] \"+item['description'])\n",
    "    return\n",
    "\n",
    "import copy\n",
    "\n",
    "# Function to combine the description text from multiple stories from the same source\n",
    "# into single text strings.\n",
    "def combineNews(news_items):\n",
    "    cnt = 0\n",
    "    prev_item = copy.deepcopy(news_items[0])\n",
    "    new_item = copy.deepcopy(news_items[0])\n",
    "    cnews_items = []\n",
    "    for item in news_items:\n",
    "        new_item['key'] = item['key']\n",
    "        new_item['polarity'] = item['polarity']            \n",
    "        new_item['subjectivity'] = item['subjectivity'] \n",
    " \n",
    "        if item['key'] == prev_item['key']:\n",
    "            new_item['title'] = new_item['title'] + ' '+item['title'].strip()\n",
    "            new_item['description'] = new_item['description'] + ' '+item['description'].strip() \n",
    "        else:\n",
    "            new_item['title'] = item['title'].strip()\n",
    "            new_item['description'] = item['description'].strip() \n",
    "            if cnt > 0 :\n",
    "                cnews_items.append(prev_item)\n",
    "            \n",
    "        prev_item = copy.deepcopy(new_item)\n",
    "        cnt += 1\n",
    "        \n",
    "    cnews_items.append(prev_item)  # get last combined item\n",
    "    return cnews_items"
   ]
  },
  {
   "cell_type": "code",
   "execution_count": 2,
   "metadata": {},
   "outputs": [
    {
     "name": "stdin",
     "output_type": "stream",
     "text": [
      "Enter search terms separated by spaces (* for all):  *\n"
     ]
    }
   ],
   "source": [
    "# Get user search terms list\n",
    "inputstring = input(\"Enter search terms separated by spaces (* for all): \")\n",
    "searchtermlist = inputstring.split()\n"
   ]
  },
  {
   "cell_type": "code",
   "execution_count": 3,
   "metadata": {},
   "outputs": [
    {
     "name": "stdout",
     "output_type": "stream",
     "text": [
      "======== telegraph news items read = 10 \n",
      "======== cnbc news items read = 30 \n",
      "======== cnn news items read = 69 \n",
      "======== washtimes news items read = 20 \n",
      "======== bbc news items read = 75 \n",
      "======== nyt news items read = 65 \n",
      "======== npr news items read = 15 \n",
      "======== washpost news items read = 25 \n",
      "======== nbcnews news items read = 25 \n",
      "======== wsj news items read = 25 \n",
      "======== foxnews news items read = 10 \n",
      "======== cbsnews news items read = 50 \n",
      "==== File:   news_all_2020-11-03.p ... Pickled with 419 stories written.\n"
     ]
    }
   ],
   "source": [
    "# Main code body\n",
    "\n",
    "news_items = []   # list for storing all news items\n",
    "\n",
    "news_items = scrapeFeeds(rssurls, searchtermlist)\n",
    "    \n",
    "# use date and search terms to generate unique filename for pickle file\n",
    "now = datetime.datetime.now()\n",
    "date_string = now.strftime('%Y-%m-%d')\n",
    "fname = \"news\"\n",
    "for sterm in searchtermlist:\n",
    "    if sterm != '*':\n",
    "        fname = fname+\"_\"+sterm\n",
    "    else:\n",
    "        fname = fname+\"_all\"\n",
    "        \n",
    "fname = fname+\"_\"+date_string+\".p\"\n",
    "saveNewsItems(news_items, fname)    \n",
    "\n",
    "  "
   ]
  },
  {
   "cell_type": "code",
   "execution_count": 6,
   "metadata": {},
   "outputs": [
    {
     "name": "stdout",
     "output_type": "stream",
     "text": [
      "----telegraph----\n",
      "telegraph - Melania ‘only person not wearing a mask’\n",
      "Welcome to our live coverage of the US presidential election.\n"
     ]
    },
    {
     "ename": "KeyError",
     "evalue": "'text'",
     "output_type": "error",
     "traceback": [
      "\u001b[0;31m---------------------------------------------------------------------------\u001b[0m",
      "\u001b[0;31mKeyError\u001b[0m                                  Traceback (most recent call last)",
      "\u001b[0;32m<ipython-input-6-9cd1436210f6>\u001b[0m in \u001b[0;36m<module>\u001b[0;34m\u001b[0m\n\u001b[0;32m----> 1\u001b[0;31m \u001b[0mdisplayNews\u001b[0m\u001b[0;34m(\u001b[0m\u001b[0mnews_items\u001b[0m\u001b[0;34m,\u001b[0m \u001b[0;36m3\u001b[0m\u001b[0;34m)\u001b[0m\u001b[0;34m\u001b[0m\u001b[0;34m\u001b[0m\u001b[0m\n\u001b[0m",
      "\u001b[0;32m<ipython-input-5-40cc3fea8331>\u001b[0m in \u001b[0;36mdisplayNews\u001b[0;34m(news_items, flag)\u001b[0m\n\u001b[1;32m     90\u001b[0m             \u001b[0mprint\u001b[0m\u001b[0;34m(\u001b[0m\u001b[0mitem\u001b[0m\u001b[0;34m[\u001b[0m\u001b[0;34m\"description\"\u001b[0m\u001b[0;34m]\u001b[0m\u001b[0;34m)\u001b[0m\u001b[0;34m\u001b[0m\u001b[0;34m\u001b[0m\u001b[0m\n\u001b[1;32m     91\u001b[0m         \u001b[0;32mif\u001b[0m\u001b[0;34m(\u001b[0m\u001b[0mflag\u001b[0m \u001b[0;34m>=\u001b[0m \u001b[0;36m3\u001b[0m\u001b[0;34m)\u001b[0m\u001b[0;34m:\u001b[0m\u001b[0;34m\u001b[0m\u001b[0;34m\u001b[0m\u001b[0m\n\u001b[0;32m---> 92\u001b[0;31m             \u001b[0mprint\u001b[0m\u001b[0;34m(\u001b[0m\u001b[0;34m\"[TEXT] \"\u001b[0m\u001b[0;34m+\u001b[0m\u001b[0mitem\u001b[0m\u001b[0;34m[\u001b[0m\u001b[0;34m'text'\u001b[0m\u001b[0;34m]\u001b[0m\u001b[0;34m)\u001b[0m\u001b[0;34m\u001b[0m\u001b[0;34m\u001b[0m\u001b[0m\n\u001b[0m\u001b[1;32m     93\u001b[0m     \u001b[0;32mreturn\u001b[0m\u001b[0;34m\u001b[0m\u001b[0;34m\u001b[0m\u001b[0m\n\u001b[1;32m     94\u001b[0m \u001b[0;34m\u001b[0m\u001b[0m\n",
      "\u001b[0;31mKeyError\u001b[0m: 'text'"
     ]
    }
   ],
   "source": [
    "displayNews(news_items, 3)"
   ]
  },
  {
   "cell_type": "code",
   "execution_count": null,
   "metadata": {},
   "outputs": [],
   "source": []
  },
  {
   "cell_type": "code",
   "execution_count": 45,
   "metadata": {},
   "outputs": [
    {
     "data": {
      "text/plain": [
       "'\\n\\n\\nDailytelegraph.com.au | Subscribe to The Daily Telegraph for exclusive stories\\n\\n\\n\\n\\n\\n\\n\\n\\n\\r\\n    html, body {\\r\\n        margin: 0;\\r\\n        padding: 0;\\r\\n\\t\\toverflow-x: hidden!important;\\r\\n    }\\r\\n    .grecaptcha-badge {\\r\\n        display: none;\\r\\n    }\\r\\n\\n\\n\\n\\n\\n\\n\\n\\n\\n\\n\\n\\n\\n\\n'"
      ]
     },
     "execution_count": 45,
     "metadata": {},
     "output_type": "execute_result"
    }
   ],
   "source": [
    "nurl = 'https://www.dailytelegraph.com.au/news/world/us-election-2020-donald-trump-v-joe-biden-as-america-votes/news-story/c1e804872a9c378245242ee575390541'\n",
    "resp = requests.get(nurl)\n",
    "soup = BeautifulSoup(resp.content, 'html.parser')\n",
    "article = soup.findAll('p')\n",
    "soup.get_text()"
   ]
  },
  {
   "cell_type": "raw",
   "metadata": {},
   "source": [
    "print(soup.prettify())"
   ]
  },
  {
   "cell_type": "code",
   "execution_count": 46,
   "metadata": {},
   "outputs": [
    {
     "data": {
      "text/plain": [
       "0"
      ]
     },
     "execution_count": 46,
     "metadata": {},
     "output_type": "execute_result"
    }
   ],
   "source": [
    "len(article)"
   ]
  },
  {
   "cell_type": "code",
   "execution_count": 48,
   "metadata": {},
   "outputs": [
    {
     "name": "stdout",
     "output_type": "stream",
     "text": [
      "\n"
     ]
    }
   ],
   "source": [
    "from newspaper import Article \n",
    "nurl = 'https://www.dailytelegraph.com.au/news/world/us-election-2020-donald-trump-v-joe-biden-as-america-votes/news-story/c1e804872a9c378245242ee575390541'\n",
    "test_article = Article(nurl, language=\"en\")\n",
    "test_article.download()\n",
    "test_article.parse()\n",
    "print(test_article.text)"
   ]
  },
  {
   "cell_type": "code",
   "execution_count": 14,
   "metadata": {},
   "outputs": [
    {
     "data": {
      "text/plain": [
       "{'title': 'Biden’s lack of presence no match for Trump fever',\n",
       " 'description': 'For a little while there over the weekend, Joe Biden seemed to kickstart back to life.',\n",
       " 'link': 'https://www.dailytelegraph.com.au/news/world/analysis-bidens-lack-of-presence-no-match-for-trump-fever/news-story/caaf087fa417c1d2a92be3584b68421f',\n",
       " 'key': 'telegraph',\n",
       " 'polarity': '0',\n",
       " 'subjectivity': '0'}"
      ]
     },
     "execution_count": 14,
     "metadata": {},
     "output_type": "execute_result"
    }
   ],
   "source": [
    "news_items[1]"
   ]
  },
  {
   "cell_type": "code",
   "execution_count": null,
   "metadata": {},
   "outputs": [],
   "source": []
  }
 ],
 "metadata": {
  "kernelspec": {
   "display_name": "Python 3",
   "language": "python",
   "name": "python3"
  },
  "language_info": {
   "codemirror_mode": {
    "name": "ipython",
    "version": 3
   },
   "file_extension": ".py",
   "mimetype": "text/x-python",
   "name": "python",
   "nbconvert_exporter": "python",
   "pygments_lexer": "ipython3",
   "version": "3.8.2"
  }
 },
 "nbformat": 4,
 "nbformat_minor": 4
}
